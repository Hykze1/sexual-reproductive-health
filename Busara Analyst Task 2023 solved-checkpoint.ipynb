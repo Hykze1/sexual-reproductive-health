{
 "cells": [
  {
   "cell_type": "code",
   "execution_count": 1,
   "id": "9258c83c-0876-4e1b-8195-8d5dc956c8cd",
   "metadata": {},
   "outputs": [],
   "source": [
    "import pandas as pd"
   ]
  },
  {
   "cell_type": "markdown",
   "id": "f9a3b084-6fc2-47d4-a2d5-ca9eabcec63a",
   "metadata": {},
   "source": [
    "Import the Excel file into the DataFrame df."
   ]
  },
  {
   "cell_type": "code",
   "execution_count": 2,
   "id": "9bf2e475-5ed9-4fe7-97db-cf09d9499585",
   "metadata": {},
   "outputs": [
    {
     "data": {
      "text/html": [
       "<div>\n",
       "<style scoped>\n",
       "    .dataframe tbody tr th:only-of-type {\n",
       "        vertical-align: middle;\n",
       "    }\n",
       "\n",
       "    .dataframe tbody tr th {\n",
       "        vertical-align: top;\n",
       "    }\n",
       "\n",
       "    .dataframe thead th {\n",
       "        text-align: right;\n",
       "    }\n",
       "</style>\n",
       "<table border=\"1\" class=\"dataframe\">\n",
       "  <thead>\n",
       "    <tr style=\"text-align: right;\">\n",
       "      <th></th>\n",
       "      <th>clientsid</th>\n",
       "      <th>Gender</th>\n",
       "      <th>CountyOfBirth</th>\n",
       "      <th>Age</th>\n",
       "      <th>EntryPoint</th>\n",
       "      <th>ReferredOrTransferredFrom</th>\n",
       "      <th>InitialVisitDate</th>\n",
       "      <th>BP</th>\n",
       "      <th>Weight_</th>\n",
       "      <th>Height</th>\n",
       "      <th>SignOfSti</th>\n",
       "      <th>Lmp</th>\n",
       "      <th>Cluster</th>\n",
       "      <th>FacilityType</th>\n",
       "      <th>Received_DP</th>\n",
       "      <th>Refill1month</th>\n",
       "      <th>Refill2months</th>\n",
       "      <th>Refill3months</th>\n",
       "      <th>Refill6months</th>\n",
       "      <th>received_counseling</th>\n",
       "    </tr>\n",
       "  </thead>\n",
       "  <tbody>\n",
       "    <tr>\n",
       "      <th>0</th>\n",
       "      <td>10269-07-1/18</td>\n",
       "      <td>M</td>\n",
       "      <td>Kisii</td>\n",
       "      <td>38</td>\n",
       "      <td>Referred</td>\n",
       "      <td>VCT Site</td>\n",
       "      <td>2018-03-14</td>\n",
       "      <td>113/82</td>\n",
       "      <td>68.0</td>\n",
       "      <td>172.0</td>\n",
       "      <td>No</td>\n",
       "      <td>1900-01-01</td>\n",
       "      <td>Nairobi</td>\n",
       "      <td>Public</td>\n",
       "      <td>1</td>\n",
       "      <td>1</td>\n",
       "      <td>1</td>\n",
       "      <td>1</td>\n",
       "      <td>1</td>\n",
       "      <td>0</td>\n",
       "    </tr>\n",
       "    <tr>\n",
       "      <th>1</th>\n",
       "      <td>10269-07-2/18</td>\n",
       "      <td>F</td>\n",
       "      <td>Meru</td>\n",
       "      <td>44</td>\n",
       "      <td>Referred</td>\n",
       "      <td>VCT Site</td>\n",
       "      <td>2018-04-11</td>\n",
       "      <td>120/84</td>\n",
       "      <td>102.0</td>\n",
       "      <td>168.0</td>\n",
       "      <td>No</td>\n",
       "      <td>1900-01-01</td>\n",
       "      <td>Nairobi</td>\n",
       "      <td>Public</td>\n",
       "      <td>1</td>\n",
       "      <td>1</td>\n",
       "      <td>1</td>\n",
       "      <td>1</td>\n",
       "      <td>0</td>\n",
       "      <td>1</td>\n",
       "    </tr>\n",
       "    <tr>\n",
       "      <th>2</th>\n",
       "      <td>10269-07-3/18</td>\n",
       "      <td>M</td>\n",
       "      <td>Kiambu</td>\n",
       "      <td>40</td>\n",
       "      <td>Referred</td>\n",
       "      <td>Outreach</td>\n",
       "      <td>2018-04-04</td>\n",
       "      <td>113/84</td>\n",
       "      <td>0.0</td>\n",
       "      <td>0.0</td>\n",
       "      <td>No</td>\n",
       "      <td>1900-01-01</td>\n",
       "      <td>Nairobi</td>\n",
       "      <td>Public</td>\n",
       "      <td>1</td>\n",
       "      <td>1</td>\n",
       "      <td>1</td>\n",
       "      <td>1</td>\n",
       "      <td>0</td>\n",
       "      <td>1</td>\n",
       "    </tr>\n",
       "    <tr>\n",
       "      <th>3</th>\n",
       "      <td>10269-07-4/18</td>\n",
       "      <td>M</td>\n",
       "      <td>Bungoma</td>\n",
       "      <td>24</td>\n",
       "      <td>Referred</td>\n",
       "      <td>VCT Site</td>\n",
       "      <td>2018-04-11</td>\n",
       "      <td>000/00</td>\n",
       "      <td>0.0</td>\n",
       "      <td>0.0</td>\n",
       "      <td>No</td>\n",
       "      <td>1900-01-01</td>\n",
       "      <td>Nairobi</td>\n",
       "      <td>Public</td>\n",
       "      <td>1</td>\n",
       "      <td>1</td>\n",
       "      <td>1</td>\n",
       "      <td>0</td>\n",
       "      <td>0</td>\n",
       "      <td>1</td>\n",
       "    </tr>\n",
       "    <tr>\n",
       "      <th>4</th>\n",
       "      <td>10269-07-5/18</td>\n",
       "      <td>F</td>\n",
       "      <td>Kiambu</td>\n",
       "      <td>31</td>\n",
       "      <td>Referred</td>\n",
       "      <td>VCT Site</td>\n",
       "      <td>2018-05-13</td>\n",
       "      <td>000/00</td>\n",
       "      <td>75.5</td>\n",
       "      <td>759.5</td>\n",
       "      <td>No</td>\n",
       "      <td>2018-04-01</td>\n",
       "      <td>Nairobi</td>\n",
       "      <td>Public</td>\n",
       "      <td>1</td>\n",
       "      <td>1</td>\n",
       "      <td>0</td>\n",
       "      <td>0</td>\n",
       "      <td>0</td>\n",
       "      <td>1</td>\n",
       "    </tr>\n",
       "    <tr>\n",
       "      <th>...</th>\n",
       "      <td>...</td>\n",
       "      <td>...</td>\n",
       "      <td>...</td>\n",
       "      <td>...</td>\n",
       "      <td>...</td>\n",
       "      <td>...</td>\n",
       "      <td>...</td>\n",
       "      <td>...</td>\n",
       "      <td>...</td>\n",
       "      <td>...</td>\n",
       "      <td>...</td>\n",
       "      <td>...</td>\n",
       "      <td>...</td>\n",
       "      <td>...</td>\n",
       "      <td>...</td>\n",
       "      <td>...</td>\n",
       "      <td>...</td>\n",
       "      <td>...</td>\n",
       "      <td>...</td>\n",
       "      <td>...</td>\n",
       "    </tr>\n",
       "    <tr>\n",
       "      <th>22126</th>\n",
       "      <td>99999/2019/07014</td>\n",
       "      <td>F</td>\n",
       "      <td>Unknown</td>\n",
       "      <td>35</td>\n",
       "      <td>Referred</td>\n",
       "      <td>VCT Site</td>\n",
       "      <td>2017-11-17</td>\n",
       "      <td>112/63</td>\n",
       "      <td>76.0</td>\n",
       "      <td>162.0</td>\n",
       "      <td>No</td>\n",
       "      <td>1900-01-01</td>\n",
       "      <td>Nairobi</td>\n",
       "      <td>Dice</td>\n",
       "      <td>1</td>\n",
       "      <td>0</td>\n",
       "      <td>0</td>\n",
       "      <td>0</td>\n",
       "      <td>0</td>\n",
       "      <td>0</td>\n",
       "    </tr>\n",
       "    <tr>\n",
       "      <th>22127</th>\n",
       "      <td>99999/2019/07017</td>\n",
       "      <td>F</td>\n",
       "      <td>Unknown</td>\n",
       "      <td>41</td>\n",
       "      <td>Referred</td>\n",
       "      <td>VCT Site</td>\n",
       "      <td>2017-12-20</td>\n",
       "      <td>114/76</td>\n",
       "      <td>94.0</td>\n",
       "      <td>154.0</td>\n",
       "      <td>No</td>\n",
       "      <td>1900-01-01</td>\n",
       "      <td>Nairobi</td>\n",
       "      <td>Dice</td>\n",
       "      <td>1</td>\n",
       "      <td>0</td>\n",
       "      <td>0</td>\n",
       "      <td>0</td>\n",
       "      <td>0</td>\n",
       "      <td>1</td>\n",
       "    </tr>\n",
       "    <tr>\n",
       "      <th>22128</th>\n",
       "      <td>99999/2019/07018</td>\n",
       "      <td>F</td>\n",
       "      <td>Turkana</td>\n",
       "      <td>47</td>\n",
       "      <td>Referred</td>\n",
       "      <td>VCT Site</td>\n",
       "      <td>2017-11-24</td>\n",
       "      <td>109/54</td>\n",
       "      <td>60.0</td>\n",
       "      <td>168.0</td>\n",
       "      <td>No</td>\n",
       "      <td>1900-01-01</td>\n",
       "      <td>Nairobi</td>\n",
       "      <td>Dice</td>\n",
       "      <td>1</td>\n",
       "      <td>0</td>\n",
       "      <td>0</td>\n",
       "      <td>0</td>\n",
       "      <td>0</td>\n",
       "      <td>1</td>\n",
       "    </tr>\n",
       "    <tr>\n",
       "      <th>22129</th>\n",
       "      <td>99999/2019/07019</td>\n",
       "      <td>F</td>\n",
       "      <td>Meru</td>\n",
       "      <td>27</td>\n",
       "      <td>Referred</td>\n",
       "      <td>VCT Site</td>\n",
       "      <td>2017-04-03</td>\n",
       "      <td>154/84</td>\n",
       "      <td>47.0</td>\n",
       "      <td>159.0</td>\n",
       "      <td>No</td>\n",
       "      <td>1900-01-01</td>\n",
       "      <td>Nairobi</td>\n",
       "      <td>Dice</td>\n",
       "      <td>1</td>\n",
       "      <td>0</td>\n",
       "      <td>0</td>\n",
       "      <td>0</td>\n",
       "      <td>0</td>\n",
       "      <td>0</td>\n",
       "    </tr>\n",
       "    <tr>\n",
       "      <th>22130</th>\n",
       "      <td>99999/2019/07020</td>\n",
       "      <td>F</td>\n",
       "      <td>Kakamega</td>\n",
       "      <td>26</td>\n",
       "      <td>Referred</td>\n",
       "      <td>VCT Site</td>\n",
       "      <td>2017-04-18</td>\n",
       "      <td>109/62</td>\n",
       "      <td>51.0</td>\n",
       "      <td>163.0</td>\n",
       "      <td>No</td>\n",
       "      <td>1900-01-01</td>\n",
       "      <td>Nairobi</td>\n",
       "      <td>Dice</td>\n",
       "      <td>1</td>\n",
       "      <td>0</td>\n",
       "      <td>0</td>\n",
       "      <td>0</td>\n",
       "      <td>0</td>\n",
       "      <td>0</td>\n",
       "    </tr>\n",
       "  </tbody>\n",
       "</table>\n",
       "<p>22131 rows × 20 columns</p>\n",
       "</div>"
      ],
      "text/plain": [
       "              clientsid Gender CountyOfBirth  Age EntryPoint  \\\n",
       "0         10269-07-1/18      M         Kisii   38   Referred   \n",
       "1         10269-07-2/18      F          Meru   44   Referred   \n",
       "2         10269-07-3/18      M        Kiambu   40   Referred   \n",
       "3         10269-07-4/18      M       Bungoma   24   Referred   \n",
       "4         10269-07-5/18      F        Kiambu   31   Referred   \n",
       "...                 ...    ...           ...  ...        ...   \n",
       "22126  99999/2019/07014      F       Unknown   35   Referred   \n",
       "22127  99999/2019/07017      F       Unknown   41   Referred   \n",
       "22128  99999/2019/07018      F       Turkana   47   Referred   \n",
       "22129  99999/2019/07019      F          Meru   27   Referred   \n",
       "22130  99999/2019/07020      F      Kakamega   26   Referred   \n",
       "\n",
       "      ReferredOrTransferredFrom InitialVisitDate      BP  Weight_  Height  \\\n",
       "0                      VCT Site       2018-03-14  113/82     68.0   172.0   \n",
       "1                      VCT Site       2018-04-11  120/84    102.0   168.0   \n",
       "2                      Outreach       2018-04-04  113/84      0.0     0.0   \n",
       "3                      VCT Site       2018-04-11  000/00      0.0     0.0   \n",
       "4                      VCT Site       2018-05-13  000/00     75.5   759.5   \n",
       "...                         ...              ...     ...      ...     ...   \n",
       "22126                  VCT Site       2017-11-17  112/63     76.0   162.0   \n",
       "22127                  VCT Site       2017-12-20  114/76     94.0   154.0   \n",
       "22128                  VCT Site       2017-11-24  109/54     60.0   168.0   \n",
       "22129                  VCT Site       2017-04-03  154/84     47.0   159.0   \n",
       "22130                  VCT Site       2017-04-18  109/62     51.0   163.0   \n",
       "\n",
       "      SignOfSti         Lmp  Cluster FacilityType  Received_DP  Refill1month  \\\n",
       "0            No  1900-01-01  Nairobi       Public            1             1   \n",
       "1            No  1900-01-01  Nairobi       Public            1             1   \n",
       "2            No  1900-01-01  Nairobi       Public            1             1   \n",
       "3            No  1900-01-01  Nairobi       Public            1             1   \n",
       "4            No  2018-04-01  Nairobi       Public            1             1   \n",
       "...         ...         ...      ...          ...          ...           ...   \n",
       "22126        No  1900-01-01  Nairobi         Dice            1             0   \n",
       "22127        No  1900-01-01  Nairobi         Dice            1             0   \n",
       "22128        No  1900-01-01  Nairobi         Dice            1             0   \n",
       "22129        No  1900-01-01  Nairobi         Dice            1             0   \n",
       "22130        No  1900-01-01  Nairobi         Dice            1             0   \n",
       "\n",
       "       Refill2months  Refill3months  Refill6months  received_counseling  \n",
       "0                  1              1              1                    0  \n",
       "1                  1              1              0                    1  \n",
       "2                  1              1              0                    1  \n",
       "3                  1              0              0                    1  \n",
       "4                  0              0              0                    1  \n",
       "...              ...            ...            ...                  ...  \n",
       "22126              0              0              0                    0  \n",
       "22127              0              0              0                    1  \n",
       "22128              0              0              0                    1  \n",
       "22129              0              0              0                    0  \n",
       "22130              0              0              0                    0  \n",
       "\n",
       "[22131 rows x 20 columns]"
      ]
     },
     "execution_count": 2,
     "metadata": {},
     "output_type": "execute_result"
    }
   ],
   "source": [
    "df = pd.read_excel(r\"C:\\Users\\GLOBALLY HYKZE\\Downloads\\DP_continuation.xlsx\")\n",
    "df"
   ]
  },
  {
   "cell_type": "markdown",
   "id": "12a768d3-0a3e-4d6c-9ed5-8537ec3ac2bd",
   "metadata": {},
   "source": [
    "We check out the overview infomation about the columns especially to know that the Data_types correspond with each columns"
   ]
  },
  {
   "cell_type": "code",
   "execution_count": 3,
   "id": "0416cd97-38f0-402a-9877-5b37e3a5cb36",
   "metadata": {},
   "outputs": [
    {
     "name": "stdout",
     "output_type": "stream",
     "text": [
      "<class 'pandas.core.frame.DataFrame'>\n",
      "RangeIndex: 22131 entries, 0 to 22130\n",
      "Data columns (total 20 columns):\n",
      " #   Column                     Non-Null Count  Dtype  \n",
      "---  ------                     --------------  -----  \n",
      " 0   clientsid                  22131 non-null  object \n",
      " 1   Gender                     22131 non-null  object \n",
      " 2   CountyOfBirth              22131 non-null  object \n",
      " 3   Age                        22131 non-null  int64  \n",
      " 4   EntryPoint                 22131 non-null  object \n",
      " 5   ReferredOrTransferredFrom  22131 non-null  object \n",
      " 6   InitialVisitDate           22131 non-null  object \n",
      " 7   BP                         21824 non-null  object \n",
      " 8   Weight_                    22014 non-null  float64\n",
      " 9   Height                     22014 non-null  float64\n",
      " 10  SignOfSti                  22014 non-null  object \n",
      " 11  Lmp                        22014 non-null  object \n",
      " 12  Cluster                    22131 non-null  object \n",
      " 13  FacilityType               22131 non-null  object \n",
      " 14  Received_DP                22131 non-null  int64  \n",
      " 15  Refill1month               22131 non-null  int64  \n",
      " 16  Refill2months              22131 non-null  int64  \n",
      " 17  Refill3months              22131 non-null  int64  \n",
      " 18  Refill6months              22131 non-null  int64  \n",
      " 19  received_counseling        22131 non-null  int64  \n",
      "dtypes: float64(2), int64(7), object(11)\n",
      "memory usage: 3.4+ MB\n"
     ]
    }
   ],
   "source": [
    "df.info()\n"
   ]
  },
  {
   "cell_type": "markdown",
   "id": "140bd742-3cf7-4124-91fe-10d895702add",
   "metadata": {},
   "source": [
    "### It is vital that we understand and explain what each columns represent \n",
    "\n",
    "clientsid: Client's ID or unique identifier.\n",
    "\n",
    "Gender: Gender of the client (M for Male, F for Female).\n",
    "\n",
    "CountyOfBirth: County where the client was born.\n",
    "\n",
    "Age: Age of the client.\n",
    "\n",
    "EntryPoint: The entry point through which the client was referred or transferred.\n",
    "\n",
    "ReferredOrTransferredFrom: Source from which the client was referred or transferred.\n",
    "\n",
    "InitialVisitDate: Date of the initial visit.\n",
    "\n",
    "BP: Blood pressure of the client.\n",
    "\n",
    "Weight_: Weight of the client.\n",
    "\n",
    "Height: Height of the client.\n",
    "\n",
    "SignOfSti: Indicates whether there are signs of sexually transmitted infection (Yes or No).\n",
    "\n",
    "Lmp: Last menstrual period date.\n",
    "\n",
    "Cluster: A categorical identifier.\n",
    "\n",
    "FacilityType: Type of health facility.\n",
    "\n",
    "Received_DP: Indicates whether the client received DMPA (Depot medroxyprogesterone acetate) injection.\n",
    "\n",
    "Refill1month, Refill2months, Refill3months, Refill6months (1 for Yes, 0 for No): Refill status for different periods.\n",
    "\n",
    "received_counseling: Indicates whether the client received counseling (1 for Yes, 0 for No).\n"
   ]
  },
  {
   "cell_type": "markdown",
   "id": "be2ce9d8-9217-40fd-9b2a-40c97741cd06",
   "metadata": {},
   "source": [
    "### Knowing that there are missing values in our data is important\n",
    "\n",
    "Missing values can bias the results. If we have a lot of missing values, our data may not be representative of what we are trying to study. This can lead to biased results that do not accurately reflect the true situation.\n",
    "\n",
    "The df.isnull().sum() method counts the number of missing values in each column of the DataFrame."
   ]
  },
  {
   "cell_type": "code",
   "execution_count": 4,
   "id": "f499ba26-19fe-4940-a57b-0705b1528a2b",
   "metadata": {},
   "outputs": [
    {
     "data": {
      "text/plain": [
       "clientsid                      0\n",
       "Gender                         0\n",
       "CountyOfBirth                  0\n",
       "Age                            0\n",
       "EntryPoint                     0\n",
       "ReferredOrTransferredFrom      0\n",
       "InitialVisitDate               0\n",
       "BP                           307\n",
       "Weight_                      117\n",
       "Height                       117\n",
       "SignOfSti                    117\n",
       "Lmp                          117\n",
       "Cluster                        0\n",
       "FacilityType                   0\n",
       "Received_DP                    0\n",
       "Refill1month                   0\n",
       "Refill2months                  0\n",
       "Refill3months                  0\n",
       "Refill6months                  0\n",
       "received_counseling            0\n",
       "dtype: int64"
      ]
     },
     "execution_count": 4,
     "metadata": {},
     "output_type": "execute_result"
    }
   ],
   "source": [
    "df.isnull().sum()"
   ]
  },
  {
   "cell_type": "markdown",
   "id": "fc8ed916-44d6-4b65-bb49-4e8ca14a9fa1",
   "metadata": {},
   "source": [
    "Since the proportion of missing values is relatively small, such as less than 5%, and the missing values are randomly distributed across the dataset, ignoring them may not significantly impact the overall accuracy of our analysis.\n",
    "\n",
    "### ref:\n",
    "Littlejohns, D. M. (2014). Missing data in experimental design and research methods. London: SAGE Publications Ltd."
   ]
  },
  {
   "cell_type": "markdown",
   "id": "3ada1cfc-d04d-4e14-b580-77e8ee476951",
   "metadata": {},
   "source": [
    "### a) Provide basic summary statistics of the data. "
   ]
  },
  {
   "cell_type": "markdown",
   "id": "ff057458-0fa7-4d5a-87d8-5357bed616f4",
   "metadata": {},
   "source": [
    "The describe() function provides basic summary statistics for numerical columns in the dataset, including count, mean, \n",
    "\n",
    "standard deviation, minimum, 25th percentile, median (50th percentile), 75th percentile, and maximum.\n",
    "\n",
    "We store these summary statistics in the variable summary_stats_numeric.\n",
    "\n",
    "The print() statement is used to display the generated summary statistics."
   ]
  },
  {
   "cell_type": "code",
   "execution_count": 5,
   "id": "27278e0b-29db-42af-b1f9-87cc66305405",
   "metadata": {},
   "outputs": [
    {
     "name": "stdout",
     "output_type": "stream",
     "text": [
      "                Age       Weight_        Height  Received_DP  Refill1month  \\\n",
      "count  22131.000000  22014.000000  2.201400e+04      22131.0  22131.000000   \n",
      "mean      27.284804     76.109112  1.907873e+02          1.0      0.476210   \n",
      "std       10.644699   1201.812775  1.063263e+04          0.0      0.499445   \n",
      "min       15.000000      0.000000  0.000000e+00          1.0      0.000000   \n",
      "25%       22.000000     50.000000  0.000000e+00          1.0      0.000000   \n",
      "50%       25.000000     60.000000  1.560000e+02          1.0      0.000000   \n",
      "75%       31.000000     68.000000  1.640000e+02          1.0      1.000000   \n",
      "max      544.000000  79174.000000  1.560000e+06          1.0      1.000000   \n",
      "\n",
      "       Refill2months  Refill3months  Refill6months  received_counseling  \n",
      "count   22131.000000   22131.000000   22131.000000         22131.000000  \n",
      "mean        0.275857       0.178844       0.065926             0.521034  \n",
      "std         0.446955       0.383230       0.248158             0.499569  \n",
      "min         0.000000       0.000000       0.000000             0.000000  \n",
      "25%         0.000000       0.000000       0.000000             0.000000  \n",
      "50%         0.000000       0.000000       0.000000             1.000000  \n",
      "75%         1.000000       0.000000       0.000000             1.000000  \n",
      "max         1.000000       1.000000       1.000000             1.000000  \n"
     ]
    }
   ],
   "source": [
    "# Generating basic summary statistics for numerical columns\n",
    "summary_stats_numeric = df.describe()\n",
    "\n",
    "# Displaying the summary statistics for numerical columns\n",
    "print(summary_stats_numeric)\n"
   ]
  },
  {
   "cell_type": "markdown",
   "id": "76bef7ab-e754-4ddf-a094-aaa62a959f62",
   "metadata": {},
   "source": [
    "By setting include='object' in the describe() function, we generate basic summary statistics for categorical columns in the dataset.\n",
    "\n",
    "We store these summary statistics in the variable summary_stats_categorical.\n",
    "\n",
    "The print() statement is used to display the generated summary statistics for categorical columns."
   ]
  },
  {
   "cell_type": "code",
   "execution_count": 12,
   "id": "2eecfb1a-d212-4742-8447-31b9718652cf",
   "metadata": {},
   "outputs": [
    {
     "data": {
      "text/html": [
       "<div>\n",
       "<style scoped>\n",
       "    .dataframe tbody tr th:only-of-type {\n",
       "        vertical-align: middle;\n",
       "    }\n",
       "\n",
       "    .dataframe tbody tr th {\n",
       "        vertical-align: top;\n",
       "    }\n",
       "\n",
       "    .dataframe thead th {\n",
       "        text-align: right;\n",
       "    }\n",
       "</style>\n",
       "<table border=\"1\" class=\"dataframe\">\n",
       "  <thead>\n",
       "    <tr style=\"text-align: right;\">\n",
       "      <th></th>\n",
       "      <th>clientsid</th>\n",
       "      <th>Gender</th>\n",
       "      <th>CountyOfBirth</th>\n",
       "      <th>EntryPoint</th>\n",
       "      <th>ReferredOrTransferredFrom</th>\n",
       "      <th>InitialVisitDate</th>\n",
       "      <th>BP</th>\n",
       "      <th>SignOfSti</th>\n",
       "      <th>Lmp</th>\n",
       "      <th>Cluster</th>\n",
       "      <th>FacilityType</th>\n",
       "    </tr>\n",
       "  </thead>\n",
       "  <tbody>\n",
       "    <tr>\n",
       "      <th>count</th>\n",
       "      <td>22131</td>\n",
       "      <td>22131</td>\n",
       "      <td>22131</td>\n",
       "      <td>22131</td>\n",
       "      <td>22131</td>\n",
       "      <td>22131</td>\n",
       "      <td>21824</td>\n",
       "      <td>22014</td>\n",
       "      <td>22014</td>\n",
       "      <td>22131</td>\n",
       "      <td>22131</td>\n",
       "    </tr>\n",
       "    <tr>\n",
       "      <th>unique</th>\n",
       "      <td>22131</td>\n",
       "      <td>3</td>\n",
       "      <td>48</td>\n",
       "      <td>2</td>\n",
       "      <td>23</td>\n",
       "      <td>642</td>\n",
       "      <td>2851</td>\n",
       "      <td>2</td>\n",
       "      <td>718</td>\n",
       "      <td>3</td>\n",
       "      <td>5</td>\n",
       "    </tr>\n",
       "    <tr>\n",
       "      <th>top</th>\n",
       "      <td>10269-07-1/18</td>\n",
       "      <td>F</td>\n",
       "      <td>Nairobi</td>\n",
       "      <td>Referred</td>\n",
       "      <td>Peer</td>\n",
       "      <td>2017-10-19</td>\n",
       "      <td>0</td>\n",
       "      <td>No</td>\n",
       "      <td>1900-01-01</td>\n",
       "      <td>Nairobi</td>\n",
       "      <td>Dice</td>\n",
       "    </tr>\n",
       "    <tr>\n",
       "      <th>freq</th>\n",
       "      <td>1</td>\n",
       "      <td>16309</td>\n",
       "      <td>4578</td>\n",
       "      <td>22116</td>\n",
       "      <td>7856</td>\n",
       "      <td>224</td>\n",
       "      <td>1745</td>\n",
       "      <td>21866</td>\n",
       "      <td>16271</td>\n",
       "      <td>11541</td>\n",
       "      <td>13131</td>\n",
       "    </tr>\n",
       "  </tbody>\n",
       "</table>\n",
       "</div>"
      ],
      "text/plain": [
       "            clientsid Gender CountyOfBirth EntryPoint  \\\n",
       "count           22131  22131         22131      22131   \n",
       "unique          22131      3            48          2   \n",
       "top     10269-07-1/18      F       Nairobi   Referred   \n",
       "freq                1  16309          4578      22116   \n",
       "\n",
       "       ReferredOrTransferredFrom InitialVisitDate     BP SignOfSti  \\\n",
       "count                      22131            22131  21824     22014   \n",
       "unique                        23              642   2851         2   \n",
       "top                         Peer       2017-10-19      0        No   \n",
       "freq                        7856              224   1745     21866   \n",
       "\n",
       "               Lmp  Cluster FacilityType  \n",
       "count        22014    22131        22131  \n",
       "unique         718        3            5  \n",
       "top     1900-01-01  Nairobi         Dice  \n",
       "freq         16271    11541        13131  "
      ]
     },
     "execution_count": 12,
     "metadata": {},
     "output_type": "execute_result"
    }
   ],
   "source": [
    "# Generating basic summary statistics for categorical columns\n",
    "summary_stats_categorical = df.describe(include='object')\n",
    "\n",
    "# Displaying the summary statistics for categorical columns\n",
    "summary_stats_categorical\n"
   ]
  },
  {
   "cell_type": "markdown",
   "id": "0b7a4332-6a7d-41d9-b64f-9117bf880b85",
   "metadata": {},
   "source": [
    "## b) Create visuals of the received DP and refill variables (received DP, month1, month 2, month 3, and month 6) to give JHG better understanding of continuation rates (i.e., how many times the recipient comes back for a refill of the DP). These refill variables show how long a patient has come back for refills, telling you how long they adhered to DP."
   ]
  },
  {
   "cell_type": "markdown",
   "id": "b4f84c78-5039-4948-b25b-2bc11e465230",
   "metadata": {},
   "source": [
    "### Creating visuals will help in understanding the continuation rates for the DP (HIV preventive medicine). The variables we will focus on are \"Received_DP,\" \"Refill1month,\" \"Refill2months,\" \"Refill3months,\" and \"Refill6months.\" Below are suggested visualizations:\n",
    "\n",
    "1. Bar Chart for DP Receipt:\n",
    "\n",
    "Create a bar chart to show the count of clients who initially received the DP.\n",
    "\n",
    "X-axis: Categories (Received_DP)\n",
    "\n",
    "Y-axis: Count of clients\n",
    "\n",
    "2. Stacked Bar Chart for Refill Rates:\n",
    "\n",
    "Use a stacked bar chart to illustrate the refill rates for months 1, 2, 3, and 6.\n",
    "\n",
    "X-axis: Categories (Refill1month, Refill2months, Refill3months, Refill6months)\n",
    "\n",
    "Y-axis: Count of clients\n",
    "\n",
    "Each bar should be segmented to represent the number of clients for each refill month.\n",
    "\n",
    "3. Percentage of Refill Rates:\n",
    "\n",
    "Calculate the percentage of clients who returned for refills relative to those who received the DP initially.\n",
    "\n",
    "Create a bar chart to display these percentages for each refill month.\n",
    "\n",
    "Line Chart for Cumulative Refill Rates Over Time:\n",
    "\n",
    "4. Use a line chart to show the cumulative refill rates over time.\n",
    "\n",
    "X-axis: Time (months)\n",
    "\n",
    "Y-axis: Cumulative percentage of clients returning for refills.\n",
    "\n",
    "### These visualizations will provide JHG with a clear overview of how many clients initially received the DP and how many continued to return for refills over different time periods. "
   ]
  },
  {
   "cell_type": "markdown",
   "id": "193e14d3-e589-4fce-a69e-0442c1ce6be8",
   "metadata": {},
   "source": [
    "## 1 Bar Chart for DP Receipt:"
   ]
  },
  {
   "cell_type": "markdown",
   "id": "215fbf78-370f-4cec-9c6b-c54f7c2c9321",
   "metadata": {},
   "source": [
    "This code creates a bar chart showing the count of clients who received the DP (HIV preventive medicine) and those who didn't."
   ]
  },
  {
   "cell_type": "code",
   "execution_count": 21,
   "id": "1d57b94c-9936-4273-bc6c-cf723d94f523",
   "metadata": {},
   "outputs": [
    {
     "data": {
      "image/png": "[encoded data removed]",
      "text/plain": [
       "<Figure size 800x600 with 1 Axes>"
      ]
     },
     "metadata": {},
     "output_type": "display_data"
    }
   ],
   "source": [
    "# Matplotlib for basic plotting, and Seaborn for statistical data visualization.\n",
    "\n",
    "import matplotlib.pyplot as plt\n",
    "import seaborn as sns\n",
    "\n",
    "plt.figure(figsize=(8, 6))\n",
    "sns.countplot(x='Received_DP', data=df)\n",
    "plt.title('DP Receipt Count')\n",
    "plt.xlabel('Received DP')\n",
    "plt.ylabel('Count of Clients')\n",
    "plt.show()\n"
   ]
  },
  {
   "cell_type": "markdown",
   "id": "6ffe50f8-b834-4582-998f-ff3aaa8b3f0f",
   "metadata": {},
   "source": [
    "## 2. Stacked Bar Chart for Refill Rates:"
   ]
  },
  {
   "cell_type": "markdown",
   "id": "bb5b1204-27cc-4f40-942a-860d8e7a9de9",
   "metadata": {},
   "source": [
    "This code creates a stacked bar chart illustrating the count of clients based on different refill time periods (1 month, 2 months, 3 months, and 6 months)."
   ]
  },
  {
   "cell_type": "code",
   "execution_count": 26,
   "id": "b0aa16d8-53ab-4d8f-becb-abaecf335cac",
   "metadata": {},
   "outputs": [
    {
     "data": {
      "text/plain": [
       "<Figure size 1000x800 with 0 Axes>"
      ]
     },
     "metadata": {},
     "output_type": "display_data"
    },
    {
     "data": {
      "image/png": "[encoded data removed]",
      "text/plain": [
       "<Figure size 640x480 with 1 Axes>"
      ]
     },
     "metadata": {},
     "output_type": "display_data"
    }
   ],
   "source": [
    "refill_cols = ['Refill1month', 'Refill2months', 'Refill3months', 'Refill6months']\n",
    "refill_data = df[refill_cols].apply(pd.Series.value_counts).transpose()\n",
    "\n",
    "plt.figure(figsize=(10, 8))\n",
    "refill_data.plot(kind='bar', stacked=True)\n",
    "plt.title('Refill Rates Over Time')\n",
    "plt.xlabel('Refill Time')\n",
    "plt.ylabel('Count of Clients')\n",
    "plt.legend(title='Refill Months')\n",
    "plt.legend(title='Refill Months', loc='upper right', bbox_to_anchor=(1.3, 1))\n",
    "plt.show()\n"
   ]
  },
  {
   "cell_type": "markdown",
   "id": "1a922a15-f689-4422-9851-4a72d797a669",
   "metadata": {},
   "source": [
    "## 3. Percentage of Refill Rates:"
   ]
  },
  {
   "cell_type": "markdown",
   "id": "aa91caa0-a03c-4fb5-a695-c951eb037d47",
   "metadata": {},
   "source": [
    "This code calculates and displays the percentage of clients for each refill time period, providing insights into the adherence rates over time."
   ]
  },
  {
   "cell_type": "code",
   "execution_count": 27,
   "id": "8716708a-12db-46fc-92ea-5bf74560cf0a",
   "metadata": {},
   "outputs": [
    {
     "data": {
      "text/plain": [
       "<Figure size 1000x800 with 0 Axes>"
      ]
     },
     "metadata": {},
     "output_type": "display_data"
    },
    {
     "data": {
      "image/png": "[encoded data removed]",
      "text/plain": [
       "<Figure size 640x480 with 1 Axes>"
      ]
     },
     "metadata": {},
     "output_type": "display_data"
    }
   ],
   "source": [
    "refill_percentage = refill_data.div(refill_data.sum(axis=1), axis=0) * 100\n",
    "\n",
    "plt.figure(figsize=(10, 8))\n",
    "refill_percentage.plot(kind='bar', stacked=True)\n",
    "plt.title('Percentage of Refill Rates Over Time')\n",
    "plt.xlabel('Refill Time')\n",
    "plt.ylabel('Percentage of Clients (%)')\n",
    "plt.legend(title='Refill Months')\n",
    "plt.legend(title='Refill Months', loc='upper right', bbox_to_anchor=(1.3, 1))\n",
    "plt.show()\n"
   ]
  },
  {
   "cell_type": "markdown",
   "id": "4d8ca12b-9f99-41e8-adbf-5e0a45b6f864",
   "metadata": {},
   "source": [
    "## 4. Line Chart for Cumulative Refill Rates Over Time:"
   ]
  },
  {
   "cell_type": "markdown",
   "id": "9c973038-09c6-4141-a9c4-f04140a94716",
   "metadata": {},
   "source": [
    "Finally, this code creates a line chart showing the cumulative percentage of clients over time, indicating the overall adherence to the medication."
   ]
  },
  {
   "cell_type": "code",
   "execution_count": 30,
   "id": "898ec3ff-bd24-45ac-979b-15a32576e7b7",
   "metadata": {},
   "outputs": [
    {
     "data": {
      "text/plain": [
       "<Figure size 1000x800 with 0 Axes>"
      ]
     },
     "metadata": {},
     "output_type": "display_data"
    },
    {
     "data": {
      "image/png": "[encoded data removed]",
      "text/plain": [
       "<Figure size 640x480 with 1 Axes>"
      ]
     },
     "metadata": {},
     "output_type": "display_data"
    }
   ],
   "source": [
    "cumulative_refill_percentage = refill_percentage.cumsum()\n",
    "\n",
    "plt.figure(figsize=(10, 8))\n",
    "cumulative_refill_percentage.plot(kind='line', marker='o')\n",
    "plt.title('Cumulative Refill Rates Over Time')\n",
    "plt.xlabel('Refill Time')\n",
    "plt.ylabel('Cumulative Percentage of Clients (%)')\n",
    "plt.grid(True)\n",
    "plt.legend(loc='upper right', bbox_to_anchor=(1.2, 1))\n",
    "plt.show()\n"
   ]
  },
  {
   "cell_type": "markdown",
   "id": "ce1ecdf8-130a-4258-889a-8a3e379875d2",
   "metadata": {},
   "source": [
    "## c)Explain what the graphs are telling us about continuation rates and how the rates differ by key variables. "
   ]
  },
  {
   "cell_type": "markdown",
   "id": "4d63c906-5b92-4df5-9be4-134386bb5c59",
   "metadata": {},
   "source": [
    "## 1. DP Receipt Count:\n",
    "The \"DP Receipt Count\" bar chart shows the number of clients who received DP.\n",
    "\n",
    "According to the information provided, there are over 20,000 counts of clients who received DP.\n",
    "## 2. Percentage of Refill Rates Over Time:\n",
    "The stacked bar chart illustrates the percentage of clients against different refill times (Refill1month, Refill2months, Refill3months, Refill6months).\n",
    "\n",
    "Refill1month: Approximately 50% of clients did not come back for a refill, while 50% did.\n",
    "\n",
    "Refill2months: Around 30% of clients did not return for a refill, while 70% did.\n",
    "\n",
    "Refill3months: About 20% of clients did not come back for a refill, while 80% did.\n",
    "\n",
    "Refill6months: Roughly 10% of clients did not return for a refill, while 90% did.\n",
    "\n",
    "### Overall Interpretation:\n",
    "The high count of clients receiving DP indicates a significant initial uptake of the preventive medicine.\n",
    "\n",
    "The percentage of clients returning for refills decreases over time, indicating a decline in continuation rates.\n",
    "\n",
    "Key variables affecting continuation rates include the time period for refills, with a notable decrease in the percentage of clients returning for refills as the time period extends.\n",
    "\n",
    "The graphs provide valuable insights into how long clients adhere to DP, with a clear trend of decreasing refill rates over time.\n",
    "\n",
    "These observations suggest that there might be challenges or barriers leading to lower continuation rates, and further investigation into the reasons behind the drop in refills could help improve the program's effectiveness."
   ]
  },
  {
   "cell_type": "markdown",
   "id": "e579ed2d-a658-42e1-a98c-f7924c024b90",
   "metadata": {},
   "source": [
    "## d) Suggest one intervention/improvement to the problem JHG is facing, referencing the data and any relevant literature on the topic. "
   ]
  },
  {
   "cell_type": "markdown",
   "id": "70225a84-a2eb-4a9d-ab8f-4ba12c36e46d",
   "metadata": {},
   "source": [
    "### Intervention: Implementing Personalized Reminder System\n",
    "- Background:\n",
    "\n",
    "  - Research in healthcare adherence has shown that personalized reminders significantly improve medication adherence (Vervloet et al., 2012; Thakkar et al., 2016).\n",
    "  \n",
    "  - Reminder systems can be tailored to individuals' preferences, such as SMS notifications, phone calls, or in-app reminders.\n",
    "\n",
    "- Implementation:\n",
    "\n",
    "  - Utilize the contact information collected during the initial visit to send personalized reminders to clients a few days before their refill date.\n",
    "  \n",
    "  - Implement a multichannel approach (SMS, phone calls) to cater to diverse communication preferences.\n",
    "\n",
    "- Data Connection:\n",
    "\n",
    "  - Analyze the data on clients who did not return for refills to identify patterns or trends.\n",
    "  \n",
    "  - Identify demographic factors or patterns in initial counseling that correlate with lower continuation rates.\n",
    "\n",
    "- Literature Support:\n",
    "\n",
    "  - Studies have shown that reminder systems lead to improved adherence to medication regimens, especially for preventive measures like HIV prophylaxis (Vervloet et al., 2012; Thakkar et al., 2016).\n",
    "\n",
    "- Evaluation:\n",
    "\n",
    "  - Monitor the impact of the reminder system on refill rates over a specific period.\n",
    "  \n",
    "  - Collect feedback from clients regarding the effectiveness and acceptability of the reminder system.\n",
    "\n",
    "Implementing a personalized reminder system addresses the behavioral aspect of non-adherence and helps overcome potential forgetfulness or lack of awareness among clients. \n",
    "\n",
    "It aligns with the goal of improving continuation rates by proactively engaging clients and providing timely information about the importance of refills.\n",
    "\n",
    "### References:\n",
    "Vervloet, M., Linn, A. J., van Weert, J. C., de Bakker, D. H., Bouvy, M. L., & van Dijk, L. (2012). The effectiveness of interventions using electronic reminders to improve adherence to chronic medication: a systematic review of the literature. Journal of the American Medical Informatics Association, 19(5), 696–704. https://doi.org/10.1136/amiajnl-2011-000748\n",
    "\n",
    "Thakkar, J., Kurup, R., Laba, T. L., Santo, K., Thiagalingam, A., Rodgers, A., ... & Chow, C. K. (2016). Mobile telephone text messaging for medication adherence in chronic disease: a meta-analysis. JAMA Internal Medicine, 176(3), 340-349. https://doi.org/10.1001/jamainternmed.2015.7667"
   ]
  },
  {
   "cell_type": "markdown",
   "id": "5f70c664-c36c-4957-821c-ebefa3512b05",
   "metadata": {},
   "source": [
    "## 1. Can you say that the intervention/improvement caused the increase in DP use by 25% and continuous use by 30%? Explain why or why not. "
   ]
  },
  {
   "cell_type": "markdown",
   "id": "2908f108-c109-4247-b1ac-b11a93d155ae",
   "metadata": {
    "jp-MarkdownHeadingCollapsed": true,
    "tags": []
   },
   "source": [
    "### While the observed increases in the number of patients receiving DP (25%) and continuously refilling DP every month (30%) are positive outcomes, it's crucial to note that correlation does not imply causation. Several factors could contribute to these increases, and attributing them solely to the implemented intervention requires a more rigorous evaluation. Here are some considerations:\n",
    "\n",
    "1. Time Lags and External Factors:\n",
    "\n",
    "   - The observed increases might not be solely due to the intervention implemented one year ago. Other external factors, such as changes in public awareness, healthcare policies, or socioeconomic conditions, could contribute.\n",
    "   \n",
    "   - There might be a time lag between the intervention and observable changes. Behavioral changes and healthcare outcomes often take time to manifest.\n",
    "\n",
    "2. Control Group and Randomization:\n",
    "\n",
    "   - To establish a causal relationship, a well-designed study with a control group and randomization would be necessary. Without a control group, it's challenging to isolate the impact of the intervention from other potential influences.\n",
    "\n",
    "3. Data Analysis:\n",
    "\n",
    "   - A more sophisticated statistical analysis, such as a regression analysis or difference-in-differences approach, could help control for confounding variables and better assess the intervention's impact.\n",
    "\n",
    "4. Client Feedback and Qualitative Data\n",
    "\n",
    "   - Complement quantitative data with qualitative insights, such as client feedback on the reminder system. Understanding the clients' perspectives can provide valuable context to the quantitative findings.\n",
    "\n",
    "5. Long-Term Sustainability:\n",
    "   - Assess whether the observed increases are sustained over the long term. Temporary spikes may not indicate a lasting impact, emphasizing the importance of continuous monitoring and evaluation.\n",
    "\n",
    "### In conclusion, while the observed increases are promising, attributing them directly to the intervention requires a more comprehensive evaluation that considers alternative explanations and employs rigorous research methods. Additional data and analyses would be necessary to establish a causal link between the implemented intervention and the positive outcomes."
   ]
  },
  {
   "cell_type": "markdown",
   "id": "9c1d94b7-ee39-4965-bf54-da93da738b99",
   "metadata": {},
   "source": [
    "## 2. Can you tell us what would be a better way (if at all) to assess the effectiveness of your intervention? "
   ]
  },
  {
   "cell_type": "markdown",
   "id": "d9f77448-7922-4a48-ade9-d0c96b195238",
   "metadata": {},
   "source": [
    "### To assess the effectiveness of the intervention more comprehensively, it would be beneficial to consider additional metrics and analyses:\n",
    "\n",
    "1. Retention Rates Over Time:\n",
    "\n",
    "   - Calculate and analyze the retention rates for each month beyond the first year. This can provide insights into the long-term impact of the intervention on sustaining adherence.\n",
    "   \n",
    "   - Use survival analysis techniques to estimate the probability of patients continuing to refill DP over an extended period (Harrington & Fleming, 1982).\n",
    "\n",
    "2. Segmented Analysis:\n",
    "\n",
    "   - Conduct a segmented analysis based on key demographic variables (e.g., gender, age, county of birth) to identify if the intervention had varying effects on different subgroups.\n",
    "   \n",
    "   - Evaluate whether certain demographic groups exhibit higher or lower improvements in DP receipt and refill rates.\n",
    "\n",
    "3. Patient Feedback and Qualitative Data:\n",
    "\n",
    "   - Collect qualitative data through interviews or surveys to understand the patients' perspectives on the reminder system.\n",
    "   \n",
    "   - Explore reasons behind discontinuation even with reminders and gather insights for potential adjustments to the intervention.\n",
    "\n",
    "4. Health Outcomes:\n",
    "\n",
    "   - Assess whether the increase in DP receipt and refilling translates to improved health outcomes, such as a reduction in new HIV infections. This aligns with the ultimate goal of the intervention (Gross et al., 2015).\n",
    "\n",
    "5. Cost-Benefit Analysis:\n",
    "\n",
    "   - Conduct a cost-benefit analysis to evaluate the economic impact of the intervention. Assess whether the increase in adherence justifies the costs associated with implementing and maintaining the reminder system.\n",
    "\n",
    "By incorporating these additional analyses, a more comprehensive understanding of the intervention's impact can be achieved, going beyond simple increases in DP receipt and refill rates.\n",
    "\n",
    "### References:\n",
    "\n",
    "- Harrington, D. P., & Fleming, T. R. (1982). A class of rank test procedures for censored survival data. Biometrika, 69(3), 553-566. https://doi.org/10.1093/biomet/69.3.553\n",
    "- Gross, R., Zheng, L., La Rosa, A., Sun, X., Rosenkranz, S. L., Cardoso, S. W., ... & Hogg, E. (2015). Partner-based adherence intervention for second-line antiretroviral therapy (ACTG A5234): a multinational randomized trial. The Lancet HIV, 2(1), e12-e19. https://doi.org/10.1016/S2352-3018(14)00014-7"
   ]
  },
  {
   "cell_type": "markdown",
   "id": "1e03aa0c-73ba-4be3-9eb3-89c9f20f8144",
   "metadata": {},
   "source": [
    "# Thank you"
   ]
  },
  {
   "cell_type": "code",
   "execution_count": null,
   "id": "eb543a1e-010e-453b-a4fe-3d8124e558fe",
   "metadata": {},
   "outputs": [],
   "source": []
  }
 ],
 "metadata": {
  "kernelspec": {
   "display_name": "Python 3 (ipykernel)",
   "language": "python",
   "name": "python3"
  },
  "language_info": {
   "codemirror_mode": {
    "name": "ipython",
    "version": 3
   },
   "file_extension": ".py",
   "mimetype": "text/x-python",
   "name": "python",
   "nbconvert_exporter": "python",
   "pygments_lexer": "ipython3",
   "version": "3.10.9"
  }
 },
 "nbformat": 4,
 "nbformat_minor": 5
}
